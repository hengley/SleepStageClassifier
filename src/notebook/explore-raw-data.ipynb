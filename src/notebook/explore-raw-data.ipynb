{
 "cells": [
  {
   "cell_type": "markdown",
   "metadata": {},
   "source": [
    "## Exploring raw sleep study data"
   ]
  },
  {
   "cell_type": "code",
   "execution_count": null,
   "metadata": {},
   "outputs": [],
   "source": [
    "import os\n",
    "import pyedflib\n",
    "import numpy as np\n",
    "import json\n",
    "\n",
    "import torch\n",
    "torch.manual_seed(42)\n",
    "import torch.nn as nn\n",
    "from torch.utils.data import TensorDataset, Dataset\n",
    "from torch.autograd import Variable"
   ]
  },
  {
   "cell_type": "markdown",
   "metadata": {},
   "source": [
    "### Load raw EEG/Annotation data"
   ]
  },
  {
   "cell_type": "code",
   "execution_count": 6,
   "metadata": {},
   "outputs": [],
   "source": [
    "with open('../../data/interim/target.json') as f:\n",
    "    targets = json.load(f)\n",
    "\n",
    "sleep_cassette_files = os.listdir('../../data/raw/sleep-cassette/')\n",
    "\n",
    "eeg_list = []\n",
    "annotation_list = []\n",
    "\n",
    "for target in targets:\n",
    "    # Find individual patient\n",
    "    subject_id_str = str(target['subject'])\n",
    "    if len(subject_id_str) == 1:\n",
    "        subject_id_str = '0' + subject_id_str\n",
    "    night_str = str(target['night'])\n",
    "    \n",
    "    # Whole night sleep recordings containing EEG\n",
    "    eeg = pyedflib.EdfReader('../../data/raw/sleep-cassette/SC4' + subject_id_str + night_str + 'E0-PSG.edf')\n",
    "    eeg_list.append(np.array(eeg.readSignal(0)))\n",
    "    \n",
    "    # Annotations of sleep recordings corresponding to EEG\n",
    "    annotation_file_path = list(filter(lambda x: x.startswith('SC4' + subject_id_str + night_str) and x.endswith('-Hypnogram.edf'), sleep_cassette_files))[0]\n",
    "    annotation = pyedflib.EdfReader('../../data/raw/sleep-cassette/' + annotation_file_path)\n",
    "    annotation_list.append(annotation)"
   ]
  },
  {
   "cell_type": "markdown",
   "metadata": {},
   "source": [
    "### Check dimensionality\n",
    "Mirror pre-processing done by Tsinalis by ignoring 'Sleep stage W' and 'Sleep stage ?'"
   ]
  },
  {
   "cell_type": "code",
   "execution_count": 3,
   "metadata": {},
   "outputs": [
    {
     "data": {
      "text/plain": [
       "'Min: -208.0'"
      ]
     },
     "metadata": {},
     "output_type": "display_data"
    },
    {
     "data": {
      "text/plain": [
       "'Max: 209.0'"
      ]
     },
     "metadata": {},
     "output_type": "display_data"
    }
   ],
   "source": [
    "# Check extreme bounds\n",
    "eeg_min = np.hstack(eeg_list).min()\n",
    "eeg_max = np.hstack(eeg_list).max()\n",
    "display(f'Min: {eeg_min}')\n",
    "display(f'Max: {eeg_max}')"
   ]
  },
  {
   "cell_type": "code",
   "execution_count": 4,
   "metadata": {},
   "outputs": [
    {
     "name": "stdout",
     "output_type": "stream",
     "text": [
      "Total epoch count: 34023.0\n"
     ]
    }
   ],
   "source": [
    "# Count total number of epochs across patients\n",
    "filtered_stages = np.array([\n",
    "    'Sleep stage 1', 'Sleep stage 2', 'Sleep stage 3',\n",
    "    'Sleep stage 4', 'Sleep stage R'])\n",
    "\n",
    "total_epochs = 0\n",
    "for annotation in annotation_list:\n",
    "    training_epochs = 0\n",
    "    time_marks = annotation.readAnnotations()[0]\n",
    "    stages = annotation.readAnnotations()[2]\n",
    "    qualifying_indices = np.where(np.isin(stages, filtered_stages))[0]\n",
    "    \n",
    "    for index in qualifying_indices:\n",
    "        training_epochs += (time_marks[index + 1] - time_marks[index]) / 30\n",
    "    total_epochs += training_epochs\n",
    "\n",
    "print(f'Total epoch count: {total_epochs}')"
   ]
  },
  {
   "cell_type": "markdown",
   "metadata": {},
   "source": [
    "### Building training set of 2D matrices\n",
    "For each of the 39 patients, their EEG values are walked through in batches of 15,000 (5 epochs: the current epoch both preceeded and succeeded by 2 epochs). These 1D arrays of length 15,000 are then converted in an 417 by 15,000 2D matrix. 417 is the absolute difference between the min (-208) and the max (209) EEG values. \n",
    "\n",
    "For each of the 15,000 non-negative integers in the 1-D array, we fill in the i-th row and j-th column of a 417 by 15,000 2D array with the value of 1, where i is the value of the non-negative integer and j is the index of the non-negative integer in the 15,000 non-negative integer array. The resulting 417 by 15,000 2D array (2D image) will then be the final input used to train a CNN with the corresponding sleeping stage label."
   ]
  },
  {
   "cell_type": "code",
   "execution_count": 7,
   "metadata": {},
   "outputs": [],
   "source": [
    "def get_sleep_stage(index, time_marks, sleep_stages):\n",
    "    \"\"\"Determines the sleep stage label for a patient\n",
    "    at a given point in their nightly data.\n",
    "    \n",
    "    index : Integer\n",
    "        Current indidvial EEG reading location from 1-D array\n",
    "    \n",
    "    time_marks : Array-like\n",
    "        Breakpoints denoting when different sleep stages\n",
    "        occur. Array values are assumed to be starting\n",
    "        times for each corresponding sleep stage\n",
    "    \n",
    "    sleep_stages : Array-like\n",
    "        Corresponding sleep stage labels that match the\n",
    "        breaks denoted by `time_marks`\n",
    "    \n",
    "    Returns : String\n",
    "        Sleep stage label\n",
    "    \"\"\"\n",
    "    time_index = -1\n",
    "    for time_mark in time_marks:\n",
    "        if index >= time_mark:\n",
    "            time_index += 1\n",
    "        else:\n",
    "            break\n",
    "    return sleep_stages[time_index]"
   ]
  },
  {
   "cell_type": "markdown",
   "metadata": {},
   "source": [
    "Build the individual matrices to be later passed into the CNN. When walking through nightly EEG data, skip over the first two epochs (i.e. 6000 items) so that the first epoch that matrix is built from is able to incorporate it's previous two epochs. Likewise, stop walking through EEG data two epochs early."
   ]
  },
  {
   "cell_type": "code",
   "execution_count": 8,
   "metadata": {},
   "outputs": [],
   "source": [
    "images = []\n",
    "for subject in range(len(eeg_list)):\n",
    "    \n",
    "    # Collect subject's raw data and labels\n",
    "    eeg = eeg_list[subject]\n",
    "    annotation = annotation_list[0]\n",
    "    \n",
    "    # Gather timing breakpoints for each sleep stage\n",
    "    sleep_stages = annotation.readAnnotations()[2]\n",
    "    time_marks = annotation.readAnnotations()[0]\n",
    "    time_marks *= 100  # Convert from 100Hz to Hz, matching the EEG indices\n",
    "    \n",
    "    # Iterate through nightly data to create 2D matrices\n",
    "    start_idx = 6000\n",
    "    stop_idx = 9000\n",
    "    two_epochs = 6000\n",
    "    for index in range(6000, eeg.shape[0] - 6000, 3000):\n",
    "\n",
    "        # Record target sleep stage label\n",
    "        label = get_sleep_stage(index, time_marks, sleep_stages)\n",
    "        if label == 'Sleep stage 4':\n",
    "            label = 'Sleep stage 3'\n",
    "        if label == 'Sleep stage ?':\n",
    "            continue\n",
    "\n",
    "        # Shift EEG values to ensure all are positive integers\n",
    "        eeg_vals = eeg[(start_idx - two_epochs):(stop_idx + two_epochs)]\n",
    "        eeg_vals_adjust = np.apply_along_axis(lambda x: np.round(x + 208), axis=0, arr=eeg_vals)\n",
    "\n",
    "        # Mark locations in the 2d array of EEG values\n",
    "        image = np.zeros((417, 15000), dtype='int')\n",
    "        for j, eeg_val in enumerate(eeg_vals_adjust):\n",
    "            image[int(eeg_val), j] = 1\n",
    "\n",
    "        # Save patient matrix with training label\n",
    "        images.append([image, label])\n",
    "\n",
    "        # Reset slicing indices\n",
    "        start_idx += 3000\n",
    "        stop_idx += 3000\n",
    "    \n",
    "    break  # Remove for full patient run"
   ]
  },
  {
   "cell_type": "markdown",
   "metadata": {},
   "source": [
    "### Format data for CNN input"
   ]
  },
  {
   "cell_type": "code",
   "execution_count": 9,
   "metadata": {},
   "outputs": [
    {
     "data": {
      "text/plain": [
       "'X shape: (4, 417, 15000)'"
      ]
     },
     "metadata": {},
     "output_type": "display_data"
    },
    {
     "data": {
      "text/plain": [
       "'y shape: (4, 1)'"
      ]
     },
     "metadata": {},
     "output_type": "display_data"
    }
   ],
   "source": [
    "# View dimensions for original data\n",
    "label_map = {\n",
    "    'Sleep stage 1': 1,\n",
    "    'Sleep stage 2': 2,\n",
    "    'Sleep stage 3': 3,\n",
    "    'Sleep stage R': 4,\n",
    "    'Sleep stage W': 5\n",
    "}\n",
    "\n",
    "X_fullset = []\n",
    "y_fullset = []\n",
    "i = 0\n",
    "for image in images:\n",
    "    X_fullset.append(image[0])\n",
    "    y_fullset.append(np.array([label_map[image[1]]]))\n",
    "    i += 1\n",
    "    if i > 3:\n",
    "        break\n",
    "\n",
    "X_fullset = np.array(X_fullset)\n",
    "y_fullset = np.array(y_fullset)\n",
    "\n",
    "display(f'X shape: {X_fullset.shape}')\n",
    "display(f'y shape: {y_fullset.shape}')"
   ]
  },
  {
   "cell_type": "code",
   "execution_count": 24,
   "metadata": {},
   "outputs": [
    {
     "data": {
      "text/plain": [
       "'X shape: torch.Size([4, 1, 417, 15000])'"
      ]
     },
     "metadata": {},
     "output_type": "display_data"
    },
    {
     "data": {
      "text/plain": [
       "'y shape: torch.Size([4, 1])'"
      ]
     },
     "metadata": {},
     "output_type": "display_data"
    }
   ],
   "source": [
    "# View dimensions as data are passed into PyTorch\n",
    "data = torch.from_numpy(X_fullset.astype('float32')).unsqueeze(1)\n",
    "target = torch.from_numpy(y_fullset.astype('long'))\n",
    "dataset = TensorDataset(data, target)\n",
    "display(f'X shape: {data.shape}')\n",
    "display(f'y shape: {target.shape}')"
   ]
  },
  {
   "cell_type": "code",
   "execution_count": 25,
   "metadata": {},
   "outputs": [
    {
     "name": "stdout",
     "output_type": "stream",
     "text": [
      "tensor([[[[0., 0., 0.,  ..., 0., 0., 0.],\n",
      "          [0., 0., 0.,  ..., 0., 0., 0.],\n",
      "          [0., 0., 0.,  ..., 0., 0., 0.],\n",
      "          ...,\n",
      "          [0., 0., 0.,  ..., 0., 0., 0.],\n",
      "          [0., 0., 0.,  ..., 0., 0., 0.],\n",
      "          [0., 0., 0.,  ..., 0., 0., 0.]]]])\n",
      "tensor([[5]])\n"
     ]
    }
   ],
   "source": [
    "# Display sample to ensure correct loading into PyTorch\n",
    "dl = torch.utils.data.DataLoader(dataset, batch_size=1, shuffle=True)\n",
    "\n",
    "dataiter = iter(dl)\n",
    "X_samples, y_samples = dataiter.next()\n",
    "print(X_samples)\n",
    "print(y_samples)"
   ]
  },
  {
   "cell_type": "markdown",
   "metadata": {},
   "source": [
    "### Build and run CNN"
   ]
  },
  {
   "cell_type": "code",
   "execution_count": 22,
   "metadata": {},
   "outputs": [],
   "source": [
    "class SleepCNN(nn.Module):\n",
    "    def __init__(self):\n",
    "        super(SleepCNN, self).__init__()\n",
    "        self.conv_1 = nn.Conv2d(in_channels=1, out_channels=20, kernel_size=(200, 200))\n",
    "        self.pool_1 = nn.MaxPool2d(kernel_size=20)\n",
    "        self.conv_2 = nn.Conv2d(in_channels=1, out_channels=1, kernel_size=1)\n",
    "        self.pool_2 = nn.MaxPool2d(kernel_size=1)\n",
    "        self.fc = nn.Linear(in_features=20, out_features=5)\n",
    "    \n",
    "    def forward(self, x):\n",
    "        print(f'Enter: {x.shape}')\n",
    "        x = self.conv_1(x)\n",
    "        print(f'Finished Convolution: {x.shape}')\n",
    "        x = nn.functional.relu(x)\n",
    "        print(f'Finished RELU: {x.shape}')\n",
    "        x = self.pool_1(x)\n",
    "        print(f'Finished Pool: {x.shape}')\n",
    "#         x = nn.functional.relu(self.conv_2(x))\n",
    "#         x = self.pool_2(x)\n",
    "        x = self.fc(x)\n",
    "        return x\n",
    "\n",
    "\n",
    "model = SleepCNN()"
   ]
  },
  {
   "cell_type": "code",
   "execution_count": null,
   "metadata": {},
   "outputs": [
    {
     "name": "stdout",
     "output_type": "stream",
     "text": [
      "Enter: torch.Size([1, 1, 417, 15000])\n"
     ]
    }
   ],
   "source": [
    "output = model(Variable(X_samples))\n",
    "output"
   ]
  },
  {
   "cell_type": "code",
   "execution_count": null,
   "metadata": {},
   "outputs": [],
   "source": []
  }
 ],
 "metadata": {
  "kernelspec": {
   "display_name": "Python 3",
   "language": "python",
   "name": "python3"
  },
  "language_info": {
   "codemirror_mode": {
    "name": "ipython",
    "version": 3
   },
   "file_extension": ".py",
   "mimetype": "text/x-python",
   "name": "python",
   "nbconvert_exporter": "python",
   "pygments_lexer": "ipython3",
   "version": "3.6.4"
  }
 },
 "nbformat": 4,
 "nbformat_minor": 2
}
